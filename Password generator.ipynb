{
 "cells": [
  {
   "cell_type": "code",
   "execution_count": 1,
   "id": "ee95b5d1",
   "metadata": {},
   "outputs": [],
   "source": [
    "import tkinter as tk\n",
    "from tkinter import messagebox\n",
    "import random\n",
    "import string"
   ]
  },
  {
   "cell_type": "code",
   "execution_count": 2,
   "id": "27c59032",
   "metadata": {},
   "outputs": [],
   "source": [
    "def generate_password(length, complexity):\n",
    "    # Define character sets\n",
    "    character_sets = {\n",
    "        \"Low\": string.ascii_lowercase,\n",
    "        \"Medium\": string.ascii_letters + string.digits,\n",
    "        \"High\": string.ascii_letters + string.digits + string.punctuation\n",
    "    }\n",
    "    \n",
    "    # Select the appropriate character set based on complexity\n",
    "    characters = character_sets.get(complexity, string.ascii_letters + string.digits + string.punctuation)\n",
    "    \n",
    "    # Generate the password\n",
    "    password = ''.join(random.choice(characters) for _ in range(length))\n",
    "    \n",
    "    return password\n"
   ]
  },
  {
   "cell_type": "code",
   "execution_count": 3,
   "id": "91ecab85",
   "metadata": {},
   "outputs": [],
   "source": [
    "def on_generate_button_click():\n",
    "    try:\n",
    "        # Get the length and complexity from the user input\n",
    "        length = int(length_entry.get())\n",
    "        complexity = complexity_var.get()\n",
    "        \n",
    "        if length <= 0:\n",
    "            raise ValueError(\"Password length must be a positive integer.\")\n",
    "        \n",
    "        # Generate the password\n",
    "        password = generate_password(length, complexity)\n",
    "        \n",
    "        # Display the generated password\n",
    "        password_var.set(password)\n",
    "    \n",
    "    except ValueError as e:\n",
    "        messagebox.showerror(\"Invalid input\", str(e))"
   ]
  },
  {
   "cell_type": "code",
   "execution_count": 4,
   "id": "59d49190",
   "metadata": {},
   "outputs": [],
   "source": [
    "# Create the main window\n",
    "root = tk.Tk()\n",
    "root.title(\"Password Generator\")\n",
    "\n",
    "# Create and place the length label and entry\n",
    "length_label = tk.Label(root, text=\"Enter the desired length of the password:\")\n",
    "length_label.pack(pady=5)\n",
    "\n",
    "length_entry = tk.Entry(root)\n",
    "length_entry.pack(pady=5)\n",
    "\n",
    "# Create and place the complexity label and dropdown\n",
    "complexity_label = tk.Label(root, text=\"Select the complexity of the password:\")\n",
    "complexity_label.pack(pady=5)\n",
    "\n",
    "complexity_var = tk.StringVar(value=\"Medium\")\n",
    "complexity_dropdown = tk.OptionMenu(root, complexity_var, \"Low\", \"Medium\", \"High\")\n",
    "complexity_dropdown.pack(pady=5)\n",
    "\n",
    "# Create and place the generate button\n",
    "generate_button = tk.Button(root, text=\"Generate Password\", command=on_generate_button_click)\n",
    "generate_button.pack(pady=10)\n",
    "\n",
    "# Create and place the label to display the generated password\n",
    "password_var = tk.StringVar()\n",
    "password_label = tk.Label(root, textvariable=password_var, font=(\"Helvetica\", 12))\n",
    "password_label.pack(pady=5)\n",
    "\n",
    "# Run the main event loop\n",
    "root.mainloop()"
   ]
  },
  {
   "cell_type": "code",
   "execution_count": null,
   "id": "6d620ca0",
   "metadata": {},
   "outputs": [],
   "source": []
  }
 ],
 "metadata": {
  "kernelspec": {
   "display_name": "Python 3 (ipykernel)",
   "language": "python",
   "name": "python3"
  },
  "language_info": {
   "codemirror_mode": {
    "name": "ipython",
    "version": 3
   },
   "file_extension": ".py",
   "mimetype": "text/x-python",
   "name": "python",
   "nbconvert_exporter": "python",
   "pygments_lexer": "ipython3",
   "version": "3.10.10"
  }
 },
 "nbformat": 4,
 "nbformat_minor": 5
}
